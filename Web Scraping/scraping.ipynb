{
 "cells": [
  {
   "cell_type": "markdown",
   "id": "f3cf7e40",
   "metadata": {},
   "source": [
    "<h1><span style=\"color : red; font_waight : bold;\">1- BeautifulSoup</span></h1>\n",
    "<p> This library using with static pages (with pages don't using js) </p>\n",
    "<p style=\"color:green\">pip install beautifulsoup4 requests </p>"
   ]
  },
  {
   "cell_type": "markdown",
   "id": "ad489586",
   "metadata": {},
   "source": [
    "<h2> Scrapping jobs from Fake jobs api using </h2>"
   ]
  },
  {
   "cell_type": "code",
   "execution_count": 62,
   "id": "954e4b45",
   "metadata": {},
   "outputs": [
    {
     "name": "stdout",
     "output_type": "stream",
     "text": [
      "Found 100 jobs\n"
     ]
    }
   ],
   "source": [
    "import requests\n",
    "from bs4 import BeautifulSoup\n",
    "\n",
    "url = \"https://realpython.github.io/fake-jobs/\"\n",
    "response = requests.get(url)\n",
    "soup = BeautifulSoup(response.text, 'html.parser')\n",
    "job_elements = soup.find_all('div', class_='card-content')\n",
    "\n",
    "jobs = []\n",
    "for job in job_elements:\n",
    "  title = job.find('h2', class_='title').get_text().strip()\n",
    "  company = job.find('h3', class_='company').get_text().strip()\n",
    "  location = job.find('p', class_='location').get_text().strip()\n",
    "\n",
    "  job = {\n",
    "    'title': title,\n",
    "    'company': company,\n",
    "    'location': location\n",
    "  }\n",
    "\n",
    "  jobs.append(job)\n",
    "\n",
    "# print(jobs)\n",
    "print(f\"Found {len(jobs)} jobs\")\n"
   ]
  },
  {
   "cell_type": "markdown",
   "id": "69635850",
   "metadata": {},
   "source": [
    "<h2>Write the lists of jobs to csv file </h2>"
   ]
  },
  {
   "cell_type": "code",
   "execution_count": 63,
   "id": "bcec8db7",
   "metadata": {},
   "outputs": [
    {
     "name": "stdout",
     "output_type": "stream",
     "text": [
      "Data has been written to jobs.csv\n"
     ]
    }
   ],
   "source": [
    "import csv\n",
    "\n",
    "with open('jobs.csv', 'a', newline='') as f:\n",
    "  header = ['title', 'company', 'location']\n",
    "  writer = csv.DictWriter(f, fieldnames=header)\n",
    "  writer.writeheader()\n",
    "  writer.writerows(jobs)\n",
    "print(f\"Data has been written to jobs.csv\")"
   ]
  },
  {
   "cell_type": "markdown",
   "id": "37693380",
   "metadata": {},
   "source": [
    "<h1>Write the lists of jobs to json file</h1>"
   ]
  },
  {
   "cell_type": "code",
   "execution_count": 64,
   "id": "644140b9",
   "metadata": {},
   "outputs": [
    {
     "name": "stdout",
     "output_type": "stream",
     "text": [
      "Data has been written to jobs.json\n"
     ]
    }
   ],
   "source": [
    "import json\n",
    "\n",
    "with open('jobs.json', 'w') as file:    \n",
    "  json.dump(jobs, file, indent=2) \n",
    "print(\"Data has been written to jobs.json\")\n",
    "\n",
    "#indent=2 => رتبت العناصر بطريقة واضحة، واعطت مسافة 2 يبعدوا عن السطر\n",
    "# json.dump(lists, file) => بتدخل ال مصفوفة الديكشيناري مباشرة للملف"
   ]
  },
  {
   "cell_type": "markdown",
   "id": "af35c0b2",
   "metadata": {},
   "source": [
    "<h2>Find python job only </h2>"
   ]
  },
  {
   "cell_type": "code",
   "execution_count": 65,
   "id": "f06b88d0",
   "metadata": {},
   "outputs": [
    {
     "name": "stdout",
     "output_type": "stream",
     "text": [
      "Found 10 python jobs\n",
      "Senior Python Developer\n",
      "Software Engineer (Python)\n",
      "Python Programmer (Entry-Level)\n",
      "Python Programmer (Entry-Level)\n",
      "Software Developer (Python)\n",
      "Python Developer\n",
      "Back-End Web Developer (Python, Django)\n",
      "Back-End Web Developer (Python, Django)\n",
      "Python Programmer (Entry-Level)\n",
      "Software Developer (Python)\n"
     ]
    }
   ],
   "source": [
    "py_job = soup.find_all('h2', string=lambda text: 'python' in text.lower())\n",
    "# string=lambda text: 'python' in text.lower() => بتشيك اذا في كلمة بايثون في العنوان بغض النظر عن حالة الاحرف\n",
    "# string='python' => بتشيك اذا العنوان هو بالضبط كلمة بايثون\n",
    "print(f\"Found {len(py_job)} python jobs\")\n",
    "\n",
    "for job in py_job:\n",
    "  print(job.get_text().strip())"
   ]
  },
  {
   "cell_type": "markdown",
   "id": "5c841e0b",
   "metadata": {},
   "source": [
    "<h2>Get the apply link </h2>"
   ]
  },
  {
   "cell_type": "code",
   "execution_count": 66,
   "id": "fea428e0",
   "metadata": {},
   "outputs": [
    {
     "name": "stdout",
     "output_type": "stream",
     "text": [
      "https://realpython.github.io/fake-jobs/jobs/senior-python-developer-0.html\n",
      "https://realpython.github.io/fake-jobs/jobs/energy-engineer-1.html\n",
      "https://realpython.github.io/fake-jobs/jobs/legal-executive-2.html\n",
      "https://realpython.github.io/fake-jobs/jobs/fitness-centre-manager-3.html\n",
      "https://realpython.github.io/fake-jobs/jobs/product-manager-4.html\n",
      "https://realpython.github.io/fake-jobs/jobs/medical-technical-officer-5.html\n",
      "https://realpython.github.io/fake-jobs/jobs/physiological-scientist-6.html\n",
      "https://realpython.github.io/fake-jobs/jobs/textile-designer-7.html\n",
      "https://realpython.github.io/fake-jobs/jobs/television-floor-manager-8.html\n",
      "https://realpython.github.io/fake-jobs/jobs/waste-management-officer-9.html\n",
      "https://realpython.github.io/fake-jobs/jobs/software-engineer-python-10.html\n",
      "https://realpython.github.io/fake-jobs/jobs/interpreter-11.html\n",
      "https://realpython.github.io/fake-jobs/jobs/architect-12.html\n",
      "https://realpython.github.io/fake-jobs/jobs/meteorologist-13.html\n",
      "https://realpython.github.io/fake-jobs/jobs/audiological-scientist-14.html\n",
      "https://realpython.github.io/fake-jobs/jobs/english-as-a-second-language-teacher-15.html\n",
      "https://realpython.github.io/fake-jobs/jobs/surgeon-16.html\n",
      "https://realpython.github.io/fake-jobs/jobs/equities-trader-17.html\n",
      "https://realpython.github.io/fake-jobs/jobs/newspaper-journalist-18.html\n",
      "https://realpython.github.io/fake-jobs/jobs/materials-engineer-19.html\n",
      "https://realpython.github.io/fake-jobs/jobs/python-programmer-entry-level-20.html\n",
      "https://realpython.github.io/fake-jobs/jobs/product-process-development-scientist-21.html\n",
      "https://realpython.github.io/fake-jobs/jobs/scientist-research-maths-22.html\n",
      "https://realpython.github.io/fake-jobs/jobs/ecologist-23.html\n",
      "https://realpython.github.io/fake-jobs/jobs/materials-engineer-24.html\n",
      "https://realpython.github.io/fake-jobs/jobs/historic-buildings-inspector-conservation-officer-25.html\n",
      "https://realpython.github.io/fake-jobs/jobs/data-scientist-26.html\n",
      "https://realpython.github.io/fake-jobs/jobs/psychiatrist-27.html\n",
      "https://realpython.github.io/fake-jobs/jobs/structural-engineer-28.html\n",
      "https://realpython.github.io/fake-jobs/jobs/immigration-officer-29.html\n",
      "https://realpython.github.io/fake-jobs/jobs/python-programmer-entry-level-30.html\n",
      "https://realpython.github.io/fake-jobs/jobs/neurosurgeon-31.html\n",
      "https://realpython.github.io/fake-jobs/jobs/broadcast-engineer-32.html\n",
      "https://realpython.github.io/fake-jobs/jobs/make-33.html\n",
      "https://realpython.github.io/fake-jobs/jobs/nurse-adult-34.html\n",
      "https://realpython.github.io/fake-jobs/jobs/air-broker-35.html\n",
      "https://realpython.github.io/fake-jobs/jobs/editor-film-video-36.html\n",
      "https://realpython.github.io/fake-jobs/jobs/production-assistant-radio-37.html\n",
      "https://realpython.github.io/fake-jobs/jobs/engineer-communications-38.html\n",
      "https://realpython.github.io/fake-jobs/jobs/sales-executive-39.html\n",
      "https://realpython.github.io/fake-jobs/jobs/software-developer-python-40.html\n",
      "https://realpython.github.io/fake-jobs/jobs/futures-trader-41.html\n",
      "https://realpython.github.io/fake-jobs/jobs/tour-manager-42.html\n",
      "https://realpython.github.io/fake-jobs/jobs/cytogeneticist-43.html\n",
      "https://realpython.github.io/fake-jobs/jobs/designer-multimedia-44.html\n",
      "https://realpython.github.io/fake-jobs/jobs/trade-union-research-officer-45.html\n",
      "https://realpython.github.io/fake-jobs/jobs/chemist-analytical-46.html\n",
      "https://realpython.github.io/fake-jobs/jobs/programmer-multimedia-47.html\n",
      "https://realpython.github.io/fake-jobs/jobs/engineer-broadcasting-operations-48.html\n",
      "https://realpython.github.io/fake-jobs/jobs/teacher-primary-school-49.html\n",
      "https://realpython.github.io/fake-jobs/jobs/python-developer-50.html\n",
      "https://realpython.github.io/fake-jobs/jobs/manufacturing-systems-engineer-51.html\n",
      "https://realpython.github.io/fake-jobs/jobs/producer-television-film-video-52.html\n",
      "https://realpython.github.io/fake-jobs/jobs/scientist-forensic-53.html\n",
      "https://realpython.github.io/fake-jobs/jobs/bonds-trader-54.html\n",
      "https://realpython.github.io/fake-jobs/jobs/editorial-assistant-55.html\n",
      "https://realpython.github.io/fake-jobs/jobs/photographer-56.html\n",
      "https://realpython.github.io/fake-jobs/jobs/retail-banker-57.html\n",
      "https://realpython.github.io/fake-jobs/jobs/jewellery-designer-58.html\n",
      "https://realpython.github.io/fake-jobs/jobs/ophthalmologist-59.html\n",
      "https://realpython.github.io/fake-jobs/jobs/back-end-web-developer-python-django-60.html\n",
      "https://realpython.github.io/fake-jobs/jobs/licensed-conveyancer-61.html\n",
      "https://realpython.github.io/fake-jobs/jobs/futures-trader-62.html\n",
      "https://realpython.github.io/fake-jobs/jobs/counselling-psychologist-63.html\n",
      "https://realpython.github.io/fake-jobs/jobs/insurance-underwriter-64.html\n",
      "https://realpython.github.io/fake-jobs/jobs/engineer-automotive-65.html\n",
      "https://realpython.github.io/fake-jobs/jobs/producer-radio-66.html\n",
      "https://realpython.github.io/fake-jobs/jobs/dispensing-optician-67.html\n",
      "https://realpython.github.io/fake-jobs/jobs/designer-fashion-clothing-68.html\n",
      "https://realpython.github.io/fake-jobs/jobs/chartered-loss-adjuster-69.html\n",
      "https://realpython.github.io/fake-jobs/jobs/back-end-web-developer-python-django-70.html\n",
      "https://realpython.github.io/fake-jobs/jobs/forest-woodland-manager-71.html\n",
      "https://realpython.github.io/fake-jobs/jobs/clinical-cytogeneticist-72.html\n",
      "https://realpython.github.io/fake-jobs/jobs/print-production-planner-73.html\n",
      "https://realpython.github.io/fake-jobs/jobs/systems-developer-74.html\n",
      "https://realpython.github.io/fake-jobs/jobs/graphic-designer-75.html\n",
      "https://realpython.github.io/fake-jobs/jobs/writer-76.html\n",
      "https://realpython.github.io/fake-jobs/jobs/field-seismologist-77.html\n",
      "https://realpython.github.io/fake-jobs/jobs/chief-strategy-officer-78.html\n",
      "https://realpython.github.io/fake-jobs/jobs/air-cabin-crew-79.html\n",
      "https://realpython.github.io/fake-jobs/jobs/python-programmer-entry-level-80.html\n",
      "https://realpython.github.io/fake-jobs/jobs/warden-ranger-81.html\n",
      "https://realpython.github.io/fake-jobs/jobs/sports-therapist-82.html\n",
      "https://realpython.github.io/fake-jobs/jobs/arts-development-officer-83.html\n",
      "https://realpython.github.io/fake-jobs/jobs/printmaker-84.html\n",
      "https://realpython.github.io/fake-jobs/jobs/health-and-safety-adviser-85.html\n",
      "https://realpython.github.io/fake-jobs/jobs/manufacturing-systems-engineer-86.html\n",
      "https://realpython.github.io/fake-jobs/jobs/programmer-applications-87.html\n",
      "https://realpython.github.io/fake-jobs/jobs/medical-physicist-88.html\n",
      "https://realpython.github.io/fake-jobs/jobs/media-planner-89.html\n",
      "https://realpython.github.io/fake-jobs/jobs/software-developer-python-90.html\n",
      "https://realpython.github.io/fake-jobs/jobs/surveyor-land-geomatics-91.html\n",
      "https://realpython.github.io/fake-jobs/jobs/legal-executive-92.html\n",
      "https://realpython.github.io/fake-jobs/jobs/librarian-academic-93.html\n",
      "https://realpython.github.io/fake-jobs/jobs/barrister-94.html\n",
      "https://realpython.github.io/fake-jobs/jobs/museum-gallery-exhibitions-officer-95.html\n",
      "https://realpython.github.io/fake-jobs/jobs/radiographer-diagnostic-96.html\n",
      "https://realpython.github.io/fake-jobs/jobs/database-administrator-97.html\n",
      "https://realpython.github.io/fake-jobs/jobs/furniture-designer-98.html\n",
      "https://realpython.github.io/fake-jobs/jobs/ship-broker-99.html\n"
     ]
    }
   ],
   "source": [
    "links = soup.find_all('a', string='Apply')\n",
    "for link in links:\n",
    "  print(link['href'])"
   ]
  },
  {
   "cell_type": "markdown",
   "id": "90a2e6b0",
   "metadata": {},
   "source": [
    "<h2>Find all quetes from static website (multi. pages) </h2>"
   ]
  },
  {
   "cell_type": "code",
   "execution_count": 67,
   "id": "1a14af83",
   "metadata": {},
   "outputs": [
    {
     "name": "stdout",
     "output_type": "stream",
     "text": [
      "Page 1: 10 quotes found\n",
      "Page 2: 10 quotes found\n",
      "Page 3: 10 quotes found\n",
      "Page 4: 10 quotes found\n",
      "Page 5: 10 quotes found\n",
      "Page 6: 10 quotes found\n",
      "Page 7: 10 quotes found\n",
      "Page 8: 10 quotes found\n",
      "Page 9: 10 quotes found\n",
      "Page 10: 10 quotes found\n"
     ]
    }
   ],
   "source": [
    "for i in range(1, 11):\n",
    "  page = requests.get(f\"https://quotes.toscrape.com/page/{i}/\")  # Get each page\n",
    "  response = requests.get(page.url)   # Fetch the page content\n",
    "  soup = BeautifulSoup(response.text, 'html.parser')   # Parse the HTML content\n",
    "  quotes = soup.find_all('span', class_='text')   # Find all quotes on the page\n",
    "  authors = soup.find_all('small', class_='author')   # Find all authors on the page\n",
    "  print(f\"Page {i}: {len(quotes)} quotes found\")"
   ]
  },
  {
   "cell_type": "markdown",
   "id": "a3ea8ff0",
   "metadata": {},
   "source": [
    "<h3>Extract all quotes from all pages</h3>"
   ]
  },
  {
   "cell_type": "code",
   "execution_count": 68,
   "id": "bb0accd5",
   "metadata": {},
   "outputs": [
    {
     "name": "stdout",
     "output_type": "stream",
     "text": [
      "\n",
      "“The world as we have created it is a process of our thinking. It cannot be changed without changing our thinking.”\n",
      "--Albert Einstein\n",
      "\n",
      "\n",
      "“It is our choices, Harry, that show what we truly are, far more than our abilities.”\n",
      "--J.K. Rowling\n",
      "\n",
      "\n",
      "“There are only two ways to live your life. One is as though nothing is a miracle. The other is as though everything is a miracle.”\n",
      "--Albert Einstein\n",
      "\n",
      "\n",
      "“The person, be it gentleman or lady, who has not pleasure in a good novel, must be intolerably stupid.”\n",
      "--Jane Austen\n",
      "\n",
      "\n",
      "“Imperfection is beauty, madness is genius and it's better to be absolutely ridiculous than absolutely boring.”\n",
      "--Marilyn Monroe\n",
      "\n",
      "\n",
      "“Try not to become a man of success. Rather become a man of value.”\n",
      "--Albert Einstein\n",
      "\n",
      "\n",
      "“It is better to be hated for what you are than to be loved for what you are not.”\n",
      "--André Gide\n",
      "\n",
      "\n",
      "“I have not failed. I've just found 10,000 ways that won't work.”\n",
      "--Thomas A. Edison\n",
      "\n",
      "\n",
      "“A woman is like a tea bag; you never know how strong it is until it's in hot water.”\n",
      "--Eleanor Roosevelt\n",
      "\n",
      "\n",
      "“A day without sunshine is like, you know, night.”\n",
      "--Steve Martin\n",
      "\n",
      "Page 1: 10 quotes found\n"
     ]
    },
    {
     "ename": "KeyboardInterrupt",
     "evalue": "",
     "output_type": "error",
     "traceback": [
      "\u001b[31m---------------------------------------------------------------------------\u001b[39m",
      "\u001b[31mKeyboardInterrupt\u001b[39m                         Traceback (most recent call last)",
      "\u001b[36mCell\u001b[39m\u001b[36m \u001b[39m\u001b[32mIn[68]\u001b[39m\u001b[32m, line 4\u001b[39m\n\u001b[32m      1\u001b[39m i = \u001b[32m1\u001b[39m\n\u001b[32m      2\u001b[39m \u001b[38;5;28;01mwhile\u001b[39;00m i != -\u001b[32m1\u001b[39m:\n\u001b[32m----> \u001b[39m\u001b[32m4\u001b[39m   page = \u001b[43mrequests\u001b[49m\u001b[43m.\u001b[49m\u001b[43mget\u001b[49m\u001b[43m(\u001b[49m\u001b[33;43mf\u001b[39;49m\u001b[33;43m\"\u001b[39;49m\u001b[33;43mhttps://quotes.toscrape.com/page/\u001b[39;49m\u001b[38;5;132;43;01m{\u001b[39;49;00m\u001b[43mi\u001b[49m\u001b[38;5;132;43;01m}\u001b[39;49;00m\u001b[33;43m/\u001b[39;49m\u001b[33;43m\"\u001b[39;49m\u001b[43m)\u001b[49m  \u001b[38;5;66;03m# Get each page\u001b[39;00m\n\u001b[32m      5\u001b[39m   response = requests.get(page.url)   \u001b[38;5;66;03m# Fetch the page content\u001b[39;00m\n\u001b[32m      6\u001b[39m   soup = BeautifulSoup(response.text, \u001b[33m'\u001b[39m\u001b[33mhtml.parser\u001b[39m\u001b[33m'\u001b[39m)   \u001b[38;5;66;03m# Parse the HTML content\u001b[39;00m\n",
      "\u001b[36mFile \u001b[39m\u001b[32mc:\\Users\\HP\\AppData\\Local\\Programs\\Python\\Python313\\Lib\\site-packages\\requests\\api.py:73\u001b[39m, in \u001b[36mget\u001b[39m\u001b[34m(url, params, **kwargs)\u001b[39m\n\u001b[32m     62\u001b[39m \u001b[38;5;28;01mdef\u001b[39;00m\u001b[38;5;250m \u001b[39m\u001b[34mget\u001b[39m(url, params=\u001b[38;5;28;01mNone\u001b[39;00m, **kwargs):\n\u001b[32m     63\u001b[39m \u001b[38;5;250m    \u001b[39m\u001b[33mr\u001b[39m\u001b[33;03m\"\"\"Sends a GET request.\u001b[39;00m\n\u001b[32m     64\u001b[39m \n\u001b[32m     65\u001b[39m \u001b[33;03m    :param url: URL for the new :class:`Request` object.\u001b[39;00m\n\u001b[32m   (...)\u001b[39m\u001b[32m     70\u001b[39m \u001b[33;03m    :rtype: requests.Response\u001b[39;00m\n\u001b[32m     71\u001b[39m \u001b[33;03m    \"\"\"\u001b[39;00m\n\u001b[32m---> \u001b[39m\u001b[32m73\u001b[39m     \u001b[38;5;28;01mreturn\u001b[39;00m \u001b[43mrequest\u001b[49m\u001b[43m(\u001b[49m\u001b[33;43m\"\u001b[39;49m\u001b[33;43mget\u001b[39;49m\u001b[33;43m\"\u001b[39;49m\u001b[43m,\u001b[49m\u001b[43m \u001b[49m\u001b[43murl\u001b[49m\u001b[43m,\u001b[49m\u001b[43m \u001b[49m\u001b[43mparams\u001b[49m\u001b[43m=\u001b[49m\u001b[43mparams\u001b[49m\u001b[43m,\u001b[49m\u001b[43m \u001b[49m\u001b[43m*\u001b[49m\u001b[43m*\u001b[49m\u001b[43mkwargs\u001b[49m\u001b[43m)\u001b[49m\n",
      "\u001b[36mFile \u001b[39m\u001b[32mc:\\Users\\HP\\AppData\\Local\\Programs\\Python\\Python313\\Lib\\site-packages\\requests\\api.py:59\u001b[39m, in \u001b[36mrequest\u001b[39m\u001b[34m(method, url, **kwargs)\u001b[39m\n\u001b[32m     55\u001b[39m \u001b[38;5;66;03m# By using the 'with' statement we are sure the session is closed, thus we\u001b[39;00m\n\u001b[32m     56\u001b[39m \u001b[38;5;66;03m# avoid leaving sockets open which can trigger a ResourceWarning in some\u001b[39;00m\n\u001b[32m     57\u001b[39m \u001b[38;5;66;03m# cases, and look like a memory leak in others.\u001b[39;00m\n\u001b[32m     58\u001b[39m \u001b[38;5;28;01mwith\u001b[39;00m sessions.Session() \u001b[38;5;28;01mas\u001b[39;00m session:\n\u001b[32m---> \u001b[39m\u001b[32m59\u001b[39m     \u001b[38;5;28;01mreturn\u001b[39;00m \u001b[43msession\u001b[49m\u001b[43m.\u001b[49m\u001b[43mrequest\u001b[49m\u001b[43m(\u001b[49m\u001b[43mmethod\u001b[49m\u001b[43m=\u001b[49m\u001b[43mmethod\u001b[49m\u001b[43m,\u001b[49m\u001b[43m \u001b[49m\u001b[43murl\u001b[49m\u001b[43m=\u001b[49m\u001b[43murl\u001b[49m\u001b[43m,\u001b[49m\u001b[43m \u001b[49m\u001b[43m*\u001b[49m\u001b[43m*\u001b[49m\u001b[43mkwargs\u001b[49m\u001b[43m)\u001b[49m\n",
      "\u001b[36mFile \u001b[39m\u001b[32mc:\\Users\\HP\\AppData\\Local\\Programs\\Python\\Python313\\Lib\\site-packages\\requests\\sessions.py:589\u001b[39m, in \u001b[36mSession.request\u001b[39m\u001b[34m(self, method, url, params, data, headers, cookies, files, auth, timeout, allow_redirects, proxies, hooks, stream, verify, cert, json)\u001b[39m\n\u001b[32m    584\u001b[39m send_kwargs = {\n\u001b[32m    585\u001b[39m     \u001b[33m\"\u001b[39m\u001b[33mtimeout\u001b[39m\u001b[33m\"\u001b[39m: timeout,\n\u001b[32m    586\u001b[39m     \u001b[33m\"\u001b[39m\u001b[33mallow_redirects\u001b[39m\u001b[33m\"\u001b[39m: allow_redirects,\n\u001b[32m    587\u001b[39m }\n\u001b[32m    588\u001b[39m send_kwargs.update(settings)\n\u001b[32m--> \u001b[39m\u001b[32m589\u001b[39m resp = \u001b[38;5;28;43mself\u001b[39;49m\u001b[43m.\u001b[49m\u001b[43msend\u001b[49m\u001b[43m(\u001b[49m\u001b[43mprep\u001b[49m\u001b[43m,\u001b[49m\u001b[43m \u001b[49m\u001b[43m*\u001b[49m\u001b[43m*\u001b[49m\u001b[43msend_kwargs\u001b[49m\u001b[43m)\u001b[49m\n\u001b[32m    591\u001b[39m \u001b[38;5;28;01mreturn\u001b[39;00m resp\n",
      "\u001b[36mFile \u001b[39m\u001b[32mc:\\Users\\HP\\AppData\\Local\\Programs\\Python\\Python313\\Lib\\site-packages\\requests\\sessions.py:703\u001b[39m, in \u001b[36mSession.send\u001b[39m\u001b[34m(self, request, **kwargs)\u001b[39m\n\u001b[32m    700\u001b[39m start = preferred_clock()\n\u001b[32m    702\u001b[39m \u001b[38;5;66;03m# Send the request\u001b[39;00m\n\u001b[32m--> \u001b[39m\u001b[32m703\u001b[39m r = \u001b[43madapter\u001b[49m\u001b[43m.\u001b[49m\u001b[43msend\u001b[49m\u001b[43m(\u001b[49m\u001b[43mrequest\u001b[49m\u001b[43m,\u001b[49m\u001b[43m \u001b[49m\u001b[43m*\u001b[49m\u001b[43m*\u001b[49m\u001b[43mkwargs\u001b[49m\u001b[43m)\u001b[49m\n\u001b[32m    705\u001b[39m \u001b[38;5;66;03m# Total elapsed time of the request (approximately)\u001b[39;00m\n\u001b[32m    706\u001b[39m elapsed = preferred_clock() - start\n",
      "\u001b[36mFile \u001b[39m\u001b[32mc:\\Users\\HP\\AppData\\Local\\Programs\\Python\\Python313\\Lib\\site-packages\\requests\\adapters.py:644\u001b[39m, in \u001b[36mHTTPAdapter.send\u001b[39m\u001b[34m(self, request, stream, timeout, verify, cert, proxies)\u001b[39m\n\u001b[32m    641\u001b[39m     timeout = TimeoutSauce(connect=timeout, read=timeout)\n\u001b[32m    643\u001b[39m \u001b[38;5;28;01mtry\u001b[39;00m:\n\u001b[32m--> \u001b[39m\u001b[32m644\u001b[39m     resp = \u001b[43mconn\u001b[49m\u001b[43m.\u001b[49m\u001b[43murlopen\u001b[49m\u001b[43m(\u001b[49m\n\u001b[32m    645\u001b[39m \u001b[43m        \u001b[49m\u001b[43mmethod\u001b[49m\u001b[43m=\u001b[49m\u001b[43mrequest\u001b[49m\u001b[43m.\u001b[49m\u001b[43mmethod\u001b[49m\u001b[43m,\u001b[49m\n\u001b[32m    646\u001b[39m \u001b[43m        \u001b[49m\u001b[43murl\u001b[49m\u001b[43m=\u001b[49m\u001b[43murl\u001b[49m\u001b[43m,\u001b[49m\n\u001b[32m    647\u001b[39m \u001b[43m        \u001b[49m\u001b[43mbody\u001b[49m\u001b[43m=\u001b[49m\u001b[43mrequest\u001b[49m\u001b[43m.\u001b[49m\u001b[43mbody\u001b[49m\u001b[43m,\u001b[49m\n\u001b[32m    648\u001b[39m \u001b[43m        \u001b[49m\u001b[43mheaders\u001b[49m\u001b[43m=\u001b[49m\u001b[43mrequest\u001b[49m\u001b[43m.\u001b[49m\u001b[43mheaders\u001b[49m\u001b[43m,\u001b[49m\n\u001b[32m    649\u001b[39m \u001b[43m        \u001b[49m\u001b[43mredirect\u001b[49m\u001b[43m=\u001b[49m\u001b[38;5;28;43;01mFalse\u001b[39;49;00m\u001b[43m,\u001b[49m\n\u001b[32m    650\u001b[39m \u001b[43m        \u001b[49m\u001b[43massert_same_host\u001b[49m\u001b[43m=\u001b[49m\u001b[38;5;28;43;01mFalse\u001b[39;49;00m\u001b[43m,\u001b[49m\n\u001b[32m    651\u001b[39m \u001b[43m        \u001b[49m\u001b[43mpreload_content\u001b[49m\u001b[43m=\u001b[49m\u001b[38;5;28;43;01mFalse\u001b[39;49;00m\u001b[43m,\u001b[49m\n\u001b[32m    652\u001b[39m \u001b[43m        \u001b[49m\u001b[43mdecode_content\u001b[49m\u001b[43m=\u001b[49m\u001b[38;5;28;43;01mFalse\u001b[39;49;00m\u001b[43m,\u001b[49m\n\u001b[32m    653\u001b[39m \u001b[43m        \u001b[49m\u001b[43mretries\u001b[49m\u001b[43m=\u001b[49m\u001b[38;5;28;43mself\u001b[39;49m\u001b[43m.\u001b[49m\u001b[43mmax_retries\u001b[49m\u001b[43m,\u001b[49m\n\u001b[32m    654\u001b[39m \u001b[43m        \u001b[49m\u001b[43mtimeout\u001b[49m\u001b[43m=\u001b[49m\u001b[43mtimeout\u001b[49m\u001b[43m,\u001b[49m\n\u001b[32m    655\u001b[39m \u001b[43m        \u001b[49m\u001b[43mchunked\u001b[49m\u001b[43m=\u001b[49m\u001b[43mchunked\u001b[49m\u001b[43m,\u001b[49m\n\u001b[32m    656\u001b[39m \u001b[43m    \u001b[49m\u001b[43m)\u001b[49m\n\u001b[32m    658\u001b[39m \u001b[38;5;28;01mexcept\u001b[39;00m (ProtocolError, \u001b[38;5;167;01mOSError\u001b[39;00m) \u001b[38;5;28;01mas\u001b[39;00m err:\n\u001b[32m    659\u001b[39m     \u001b[38;5;28;01mraise\u001b[39;00m \u001b[38;5;167;01mConnectionError\u001b[39;00m(err, request=request)\n",
      "\u001b[36mFile \u001b[39m\u001b[32mc:\\Users\\HP\\AppData\\Local\\Programs\\Python\\Python313\\Lib\\site-packages\\urllib3\\connectionpool.py:787\u001b[39m, in \u001b[36mHTTPConnectionPool.urlopen\u001b[39m\u001b[34m(self, method, url, body, headers, retries, redirect, assert_same_host, timeout, pool_timeout, release_conn, chunked, body_pos, preload_content, decode_content, **response_kw)\u001b[39m\n\u001b[32m    784\u001b[39m response_conn = conn \u001b[38;5;28;01mif\u001b[39;00m \u001b[38;5;129;01mnot\u001b[39;00m release_conn \u001b[38;5;28;01melse\u001b[39;00m \u001b[38;5;28;01mNone\u001b[39;00m\n\u001b[32m    786\u001b[39m \u001b[38;5;66;03m# Make the request on the HTTPConnection object\u001b[39;00m\n\u001b[32m--> \u001b[39m\u001b[32m787\u001b[39m response = \u001b[38;5;28;43mself\u001b[39;49m\u001b[43m.\u001b[49m\u001b[43m_make_request\u001b[49m\u001b[43m(\u001b[49m\n\u001b[32m    788\u001b[39m \u001b[43m    \u001b[49m\u001b[43mconn\u001b[49m\u001b[43m,\u001b[49m\n\u001b[32m    789\u001b[39m \u001b[43m    \u001b[49m\u001b[43mmethod\u001b[49m\u001b[43m,\u001b[49m\n\u001b[32m    790\u001b[39m \u001b[43m    \u001b[49m\u001b[43murl\u001b[49m\u001b[43m,\u001b[49m\n\u001b[32m    791\u001b[39m \u001b[43m    \u001b[49m\u001b[43mtimeout\u001b[49m\u001b[43m=\u001b[49m\u001b[43mtimeout_obj\u001b[49m\u001b[43m,\u001b[49m\n\u001b[32m    792\u001b[39m \u001b[43m    \u001b[49m\u001b[43mbody\u001b[49m\u001b[43m=\u001b[49m\u001b[43mbody\u001b[49m\u001b[43m,\u001b[49m\n\u001b[32m    793\u001b[39m \u001b[43m    \u001b[49m\u001b[43mheaders\u001b[49m\u001b[43m=\u001b[49m\u001b[43mheaders\u001b[49m\u001b[43m,\u001b[49m\n\u001b[32m    794\u001b[39m \u001b[43m    \u001b[49m\u001b[43mchunked\u001b[49m\u001b[43m=\u001b[49m\u001b[43mchunked\u001b[49m\u001b[43m,\u001b[49m\n\u001b[32m    795\u001b[39m \u001b[43m    \u001b[49m\u001b[43mretries\u001b[49m\u001b[43m=\u001b[49m\u001b[43mretries\u001b[49m\u001b[43m,\u001b[49m\n\u001b[32m    796\u001b[39m \u001b[43m    \u001b[49m\u001b[43mresponse_conn\u001b[49m\u001b[43m=\u001b[49m\u001b[43mresponse_conn\u001b[49m\u001b[43m,\u001b[49m\n\u001b[32m    797\u001b[39m \u001b[43m    \u001b[49m\u001b[43mpreload_content\u001b[49m\u001b[43m=\u001b[49m\u001b[43mpreload_content\u001b[49m\u001b[43m,\u001b[49m\n\u001b[32m    798\u001b[39m \u001b[43m    \u001b[49m\u001b[43mdecode_content\u001b[49m\u001b[43m=\u001b[49m\u001b[43mdecode_content\u001b[49m\u001b[43m,\u001b[49m\n\u001b[32m    799\u001b[39m \u001b[43m    \u001b[49m\u001b[43m*\u001b[49m\u001b[43m*\u001b[49m\u001b[43mresponse_kw\u001b[49m\u001b[43m,\u001b[49m\n\u001b[32m    800\u001b[39m \u001b[43m\u001b[49m\u001b[43m)\u001b[49m\n\u001b[32m    802\u001b[39m \u001b[38;5;66;03m# Everything went great!\u001b[39;00m\n\u001b[32m    803\u001b[39m clean_exit = \u001b[38;5;28;01mTrue\u001b[39;00m\n",
      "\u001b[36mFile \u001b[39m\u001b[32mc:\\Users\\HP\\AppData\\Local\\Programs\\Python\\Python313\\Lib\\site-packages\\urllib3\\connectionpool.py:534\u001b[39m, in \u001b[36mHTTPConnectionPool._make_request\u001b[39m\u001b[34m(self, conn, method, url, body, headers, retries, timeout, chunked, response_conn, preload_content, decode_content, enforce_content_length)\u001b[39m\n\u001b[32m    532\u001b[39m \u001b[38;5;66;03m# Receive the response from the server\u001b[39;00m\n\u001b[32m    533\u001b[39m \u001b[38;5;28;01mtry\u001b[39;00m:\n\u001b[32m--> \u001b[39m\u001b[32m534\u001b[39m     response = \u001b[43mconn\u001b[49m\u001b[43m.\u001b[49m\u001b[43mgetresponse\u001b[49m\u001b[43m(\u001b[49m\u001b[43m)\u001b[49m\n\u001b[32m    535\u001b[39m \u001b[38;5;28;01mexcept\u001b[39;00m (BaseSSLError, \u001b[38;5;167;01mOSError\u001b[39;00m) \u001b[38;5;28;01mas\u001b[39;00m e:\n\u001b[32m    536\u001b[39m     \u001b[38;5;28mself\u001b[39m._raise_timeout(err=e, url=url, timeout_value=read_timeout)\n",
      "\u001b[36mFile \u001b[39m\u001b[32mc:\\Users\\HP\\AppData\\Local\\Programs\\Python\\Python313\\Lib\\site-packages\\urllib3\\connection.py:565\u001b[39m, in \u001b[36mHTTPConnection.getresponse\u001b[39m\u001b[34m(self)\u001b[39m\n\u001b[32m    562\u001b[39m _shutdown = \u001b[38;5;28mgetattr\u001b[39m(\u001b[38;5;28mself\u001b[39m.sock, \u001b[33m\"\u001b[39m\u001b[33mshutdown\u001b[39m\u001b[33m\"\u001b[39m, \u001b[38;5;28;01mNone\u001b[39;00m)\n\u001b[32m    564\u001b[39m \u001b[38;5;66;03m# Get the response from http.client.HTTPConnection\u001b[39;00m\n\u001b[32m--> \u001b[39m\u001b[32m565\u001b[39m httplib_response = \u001b[38;5;28;43msuper\u001b[39;49m\u001b[43m(\u001b[49m\u001b[43m)\u001b[49m\u001b[43m.\u001b[49m\u001b[43mgetresponse\u001b[49m\u001b[43m(\u001b[49m\u001b[43m)\u001b[49m\n\u001b[32m    567\u001b[39m \u001b[38;5;28;01mtry\u001b[39;00m:\n\u001b[32m    568\u001b[39m     assert_header_parsing(httplib_response.msg)\n",
      "\u001b[36mFile \u001b[39m\u001b[32mc:\\Users\\HP\\AppData\\Local\\Programs\\Python\\Python313\\Lib\\http\\client.py:1430\u001b[39m, in \u001b[36mHTTPConnection.getresponse\u001b[39m\u001b[34m(self)\u001b[39m\n\u001b[32m   1428\u001b[39m \u001b[38;5;28;01mtry\u001b[39;00m:\n\u001b[32m   1429\u001b[39m     \u001b[38;5;28;01mtry\u001b[39;00m:\n\u001b[32m-> \u001b[39m\u001b[32m1430\u001b[39m         \u001b[43mresponse\u001b[49m\u001b[43m.\u001b[49m\u001b[43mbegin\u001b[49m\u001b[43m(\u001b[49m\u001b[43m)\u001b[49m\n\u001b[32m   1431\u001b[39m     \u001b[38;5;28;01mexcept\u001b[39;00m \u001b[38;5;167;01mConnectionError\u001b[39;00m:\n\u001b[32m   1432\u001b[39m         \u001b[38;5;28mself\u001b[39m.close()\n",
      "\u001b[36mFile \u001b[39m\u001b[32mc:\\Users\\HP\\AppData\\Local\\Programs\\Python\\Python313\\Lib\\http\\client.py:331\u001b[39m, in \u001b[36mHTTPResponse.begin\u001b[39m\u001b[34m(self)\u001b[39m\n\u001b[32m    329\u001b[39m \u001b[38;5;66;03m# read until we get a non-100 response\u001b[39;00m\n\u001b[32m    330\u001b[39m \u001b[38;5;28;01mwhile\u001b[39;00m \u001b[38;5;28;01mTrue\u001b[39;00m:\n\u001b[32m--> \u001b[39m\u001b[32m331\u001b[39m     version, status, reason = \u001b[38;5;28;43mself\u001b[39;49m\u001b[43m.\u001b[49m\u001b[43m_read_status\u001b[49m\u001b[43m(\u001b[49m\u001b[43m)\u001b[49m\n\u001b[32m    332\u001b[39m     \u001b[38;5;28;01mif\u001b[39;00m status != CONTINUE:\n\u001b[32m    333\u001b[39m         \u001b[38;5;28;01mbreak\u001b[39;00m\n",
      "\u001b[36mFile \u001b[39m\u001b[32mc:\\Users\\HP\\AppData\\Local\\Programs\\Python\\Python313\\Lib\\http\\client.py:292\u001b[39m, in \u001b[36mHTTPResponse._read_status\u001b[39m\u001b[34m(self)\u001b[39m\n\u001b[32m    291\u001b[39m \u001b[38;5;28;01mdef\u001b[39;00m\u001b[38;5;250m \u001b[39m\u001b[34m_read_status\u001b[39m(\u001b[38;5;28mself\u001b[39m):\n\u001b[32m--> \u001b[39m\u001b[32m292\u001b[39m     line = \u001b[38;5;28mstr\u001b[39m(\u001b[38;5;28;43mself\u001b[39;49m\u001b[43m.\u001b[49m\u001b[43mfp\u001b[49m\u001b[43m.\u001b[49m\u001b[43mreadline\u001b[49m\u001b[43m(\u001b[49m\u001b[43m_MAXLINE\u001b[49m\u001b[43m \u001b[49m\u001b[43m+\u001b[49m\u001b[43m \u001b[49m\u001b[32;43m1\u001b[39;49m\u001b[43m)\u001b[49m, \u001b[33m\"\u001b[39m\u001b[33miso-8859-1\u001b[39m\u001b[33m\"\u001b[39m)\n\u001b[32m    293\u001b[39m     \u001b[38;5;28;01mif\u001b[39;00m \u001b[38;5;28mlen\u001b[39m(line) > _MAXLINE:\n\u001b[32m    294\u001b[39m         \u001b[38;5;28;01mraise\u001b[39;00m LineTooLong(\u001b[33m\"\u001b[39m\u001b[33mstatus line\u001b[39m\u001b[33m\"\u001b[39m)\n",
      "\u001b[36mFile \u001b[39m\u001b[32mc:\\Users\\HP\\AppData\\Local\\Programs\\Python\\Python313\\Lib\\socket.py:719\u001b[39m, in \u001b[36mSocketIO.readinto\u001b[39m\u001b[34m(self, b)\u001b[39m\n\u001b[32m    717\u001b[39m     \u001b[38;5;28;01mraise\u001b[39;00m \u001b[38;5;167;01mOSError\u001b[39;00m(\u001b[33m\"\u001b[39m\u001b[33mcannot read from timed out object\u001b[39m\u001b[33m\"\u001b[39m)\n\u001b[32m    718\u001b[39m \u001b[38;5;28;01mtry\u001b[39;00m:\n\u001b[32m--> \u001b[39m\u001b[32m719\u001b[39m     \u001b[38;5;28;01mreturn\u001b[39;00m \u001b[38;5;28;43mself\u001b[39;49m\u001b[43m.\u001b[49m\u001b[43m_sock\u001b[49m\u001b[43m.\u001b[49m\u001b[43mrecv_into\u001b[49m\u001b[43m(\u001b[49m\u001b[43mb\u001b[49m\u001b[43m)\u001b[49m\n\u001b[32m    720\u001b[39m \u001b[38;5;28;01mexcept\u001b[39;00m timeout:\n\u001b[32m    721\u001b[39m     \u001b[38;5;28mself\u001b[39m._timeout_occurred = \u001b[38;5;28;01mTrue\u001b[39;00m\n",
      "\u001b[36mFile \u001b[39m\u001b[32mc:\\Users\\HP\\AppData\\Local\\Programs\\Python\\Python313\\Lib\\ssl.py:1304\u001b[39m, in \u001b[36mSSLSocket.recv_into\u001b[39m\u001b[34m(self, buffer, nbytes, flags)\u001b[39m\n\u001b[32m   1300\u001b[39m     \u001b[38;5;28;01mif\u001b[39;00m flags != \u001b[32m0\u001b[39m:\n\u001b[32m   1301\u001b[39m         \u001b[38;5;28;01mraise\u001b[39;00m \u001b[38;5;167;01mValueError\u001b[39;00m(\n\u001b[32m   1302\u001b[39m           \u001b[33m\"\u001b[39m\u001b[33mnon-zero flags not allowed in calls to recv_into() on \u001b[39m\u001b[38;5;132;01m%s\u001b[39;00m\u001b[33m\"\u001b[39m %\n\u001b[32m   1303\u001b[39m           \u001b[38;5;28mself\u001b[39m.\u001b[34m__class__\u001b[39m)\n\u001b[32m-> \u001b[39m\u001b[32m1304\u001b[39m     \u001b[38;5;28;01mreturn\u001b[39;00m \u001b[38;5;28;43mself\u001b[39;49m\u001b[43m.\u001b[49m\u001b[43mread\u001b[49m\u001b[43m(\u001b[49m\u001b[43mnbytes\u001b[49m\u001b[43m,\u001b[49m\u001b[43m \u001b[49m\u001b[43mbuffer\u001b[49m\u001b[43m)\u001b[49m\n\u001b[32m   1305\u001b[39m \u001b[38;5;28;01melse\u001b[39;00m:\n\u001b[32m   1306\u001b[39m     \u001b[38;5;28;01mreturn\u001b[39;00m \u001b[38;5;28msuper\u001b[39m().recv_into(buffer, nbytes, flags)\n",
      "\u001b[36mFile \u001b[39m\u001b[32mc:\\Users\\HP\\AppData\\Local\\Programs\\Python\\Python313\\Lib\\ssl.py:1138\u001b[39m, in \u001b[36mSSLSocket.read\u001b[39m\u001b[34m(self, len, buffer)\u001b[39m\n\u001b[32m   1136\u001b[39m \u001b[38;5;28;01mtry\u001b[39;00m:\n\u001b[32m   1137\u001b[39m     \u001b[38;5;28;01mif\u001b[39;00m buffer \u001b[38;5;129;01mis\u001b[39;00m \u001b[38;5;129;01mnot\u001b[39;00m \u001b[38;5;28;01mNone\u001b[39;00m:\n\u001b[32m-> \u001b[39m\u001b[32m1138\u001b[39m         \u001b[38;5;28;01mreturn\u001b[39;00m \u001b[38;5;28;43mself\u001b[39;49m\u001b[43m.\u001b[49m\u001b[43m_sslobj\u001b[49m\u001b[43m.\u001b[49m\u001b[43mread\u001b[49m\u001b[43m(\u001b[49m\u001b[38;5;28;43mlen\u001b[39;49m\u001b[43m,\u001b[49m\u001b[43m \u001b[49m\u001b[43mbuffer\u001b[49m\u001b[43m)\u001b[49m\n\u001b[32m   1139\u001b[39m     \u001b[38;5;28;01melse\u001b[39;00m:\n\u001b[32m   1140\u001b[39m         \u001b[38;5;28;01mreturn\u001b[39;00m \u001b[38;5;28mself\u001b[39m._sslobj.read(\u001b[38;5;28mlen\u001b[39m)\n",
      "\u001b[31mKeyboardInterrupt\u001b[39m: "
     ]
    }
   ],
   "source": [
    "i = 1\n",
    "while i != -1:\n",
    "\n",
    "  page = requests.get(f\"https://quotes.toscrape.com/page/{i}/\")  # Get each page\n",
    "  response = requests.get(page.url)   # Fetch the page content\n",
    "  soup = BeautifulSoup(response.text, 'html.parser')   # Parse the HTML content\n",
    "  quote_div = soup.find_all('div', class_='quote')\n",
    "\n",
    "  if not quote_div:\n",
    "    print(\"Finished, no more quotes found.\")\n",
    "    i = -1\n",
    "  else:\n",
    "    for quote in quote_div:\n",
    "      text = quote.find('span', class_='text').get_text()\n",
    "      author = quote.find('small', class_='author').get_text()\n",
    "      print(f\"\\n{text}\\n--{author}\\n\")\n",
    "      quotes = soup.find_all('span', class_='text')   # Find all quotes on the page\n",
    "      authors = soup.find_all('small', class_='author')   # Find all authors on the page\n",
    "    \n",
    "    print(f\"Page {i}: {len(quotes)} quotes found\")\n",
    "    i += 1\n",
    "\n",
    "\n",
    "  \n",
    "\n"
   ]
  },
  {
   "cell_type": "markdown",
   "id": "055c046d",
   "metadata": {},
   "source": [
    "<h1><span style=\"color : red; font_waight : bold;\">2- Selenium</span></h1>\n",
    "<p> This library using with dynamic pages (with pages using js) </p>\n",
    "<p style=\"color:green\">pip install selenium</p>"
   ]
  },
  {
   "cell_type": "code",
   "execution_count": null,
   "id": "dcc5524a",
   "metadata": {},
   "outputs": [
    {
     "ename": "ModuleNotFoundError",
     "evalue": "No module named 'selenium'",
     "output_type": "error",
     "traceback": [
      "\u001b[31m---------------------------------------------------------------------------\u001b[39m",
      "\u001b[31mModuleNotFoundError\u001b[39m                       Traceback (most recent call last)",
      "\u001b[36mCell\u001b[39m\u001b[36m \u001b[39m\u001b[32mIn[61]\u001b[39m\u001b[32m, line 1\u001b[39m\n\u001b[32m----> \u001b[39m\u001b[32m1\u001b[39m \u001b[38;5;28;01mfrom\u001b[39;00m\u001b[38;5;250m \u001b[39m\u001b[34;01mselenium\u001b[39;00m\u001b[34;01m.\u001b[39;00m\u001b[34;01mwebdriver\u001b[39;00m\u001b[34;01m.\u001b[39;00m\u001b[34;01mcommon\u001b[39;00m\u001b[34;01m.\u001b[39;00m\u001b[34;01mby\u001b[39;00m\u001b[38;5;250m \u001b[39m\u001b[38;5;28;01mimport\u001b[39;00m By\n\u001b[32m      2\u001b[39m \u001b[38;5;28;01mimport\u001b[39;00m\u001b[38;5;250m \u001b[39m\u001b[34;01mtime\u001b[39;00m\n\u001b[32m      5\u001b[39m \u001b[38;5;66;03m#open chrome browser\u001b[39;00m\n",
      "\u001b[31mModuleNotFoundError\u001b[39m: No module named 'selenium'"
     ]
    }
   ],
   "source": [
    "from selenium.webdriver.common.by import By\n",
    "import time\n",
    "\n",
    "\n",
    "#open chrome browser\n",
    "driver = webdriver.Chrome()\n",
    "\n",
    "url = \"https://quotes.toscrape.com/scroll\"\n",
    "\n",
    "#open scrolling web page\n",
    "driver.get(url)\n",
    "\n",
    "#let the page load\n",
    "time.sleep(2)\n",
    "\n",
    "#scroll to the end of the page\n",
    "driver.execute_script(\"window.scrollTo(0, document.body.scrollHeight);\")\n",
    "\n",
    "#Extract the quotes\n",
    "quotes = driver.find_elements(By.CLASS_NAME, 'quote')\n",
    "\n",
    "for quote in quotes:\n",
    "  print(quote.text)\n",
    "\n",
    "#close the browser\n",
    "driver.quit()"
   ]
  }
 ],
 "metadata": {
  "kernelspec": {
   "display_name": "Python 3",
   "language": "python",
   "name": "python3"
  },
  "language_info": {
   "codemirror_mode": {
    "name": "ipython",
    "version": 3
   },
   "file_extension": ".py",
   "mimetype": "text/x-python",
   "name": "python",
   "nbconvert_exporter": "python",
   "pygments_lexer": "ipython3",
   "version": "3.13.3"
  }
 },
 "nbformat": 4,
 "nbformat_minor": 5
}
