{
 "cells": [
  {
   "cell_type": "markdown",
   "id": "1f7a7136-2b6f-44ab-8446-2fb9cd86fd48",
   "metadata": {
    "id": "1f7a7136-2b6f-44ab-8446-2fb9cd86fd48"
   },
   "source": [
    "### Exercises ➞ <span class='label label-default'>Level 3</span>\n",
    "##### To access countries_details_data.py file\n",
    "##### > in first line in code write:\n",
    "##### > from countries import countries\n",
    "##### > from countries_details_dat import countries_data\n",
    "\n",
    "1. Go to the data folder and use the **[countries.py]()** file. Loop through the countries and extract all the countries containing the word **`land`**.\n",
    "2. Go to the data folder and use the **[countries_details_data.py]()** file.\n",
    "   1. What are the total number of languages in the data \\\\ 112\n",
    "   2. Find the ten most spoken languages from the data \\\\ English , French , Arabic\n",
    "   3. Find the 10 most populated countries in the world \\\\ China, India, US\n",
    "  \n",
    "3. Print the following pattern using loops (bones)\n",
    "\n",
    "```py\n",
    "   0 x 0 = 0\n",
    "   1 x 1 = 1\n",
    "   2 x 2 = 4\n",
    "   3 x 3 = 9\n",
    "   4 x 4 = 16\n",
    "   5 x 5 = 25\n",
    "   6 x 6 = 36\n",
    "   7 x 7 = 49\n",
    "   8 x 8 = 64\n",
    "   9 x 9 = 81\n",
    "   10 x 10 = 100\n",
    "```"
   ]
  },
  {
   "cell_type": "code",
   "execution_count": 1,
   "id": "cbf00435-8c62-405b-89e0-d5b7377781af",
   "metadata": {
    "id": "cbf00435-8c62-405b-89e0-d5b7377781af"
   },
   "outputs": [],
   "source": [
    "from countries import countries\n",
    "from countries_details_dat import countries_data"
   ]
  },
  {
   "cell_type": "code",
   "execution_count": 2,
   "id": "bc55b739-44bc-4b8c-bd61-42b5bb9b74e9",
   "metadata": {
    "id": "bc55b739-44bc-4b8c-bd61-42b5bb9b74e9",
    "outputId": "a5b6f8cc-ee26-49fc-9624-df457b6c5072"
   },
   "outputs": [
    {
     "name": "stdout",
     "output_type": "stream",
     "text": [
      "Finland\n",
      "Iceland\n",
      "Ireland\n",
      "Marshall Islands\n",
      "Netherlands\n",
      "New Zealand\n",
      "Poland\n",
      "Solomon Islands\n",
      "Swaziland\n",
      "Switzerland\n",
      "Thailand\n"
     ]
    }
   ],
   "source": [
    "# Go to the data folder and use the **[countries.py]()** file. Loop through the countries and extract all the countries containing the word **`land`**.\n",
    "\n",
    "for country in countries:\n",
    "  if 'land' in country.lower():\n",
    "    print(country)"
   ]
  },
  {
   "cell_type": "code",
   "execution_count": 38,
   "id": "6add33ca-29f2-4df9-bce1-e25880c3986c",
   "metadata": {
    "id": "6add33ca-29f2-4df9-bce1-e25880c3986c"
   },
   "outputs": [
    {
     "name": "stdout",
     "output_type": "stream",
     "text": [
      "112\n",
      "The ten most spoken languages are:\n",
      "English\n",
      "French\n",
      "Arabic\n",
      "Spanish\n",
      "Portuguese\n",
      "Russian\n",
      "Dutch\n",
      "German\n",
      "Chinese\n",
      "Serbian\n",
      "The 10 most populated countries in the world are:\n",
      "China\n",
      "India\n",
      "United States of America\n",
      "Indonesia\n",
      "Brazil\n",
      "Pakistan\n",
      "Nigeria\n",
      "Bangladesh\n",
      "Russian Federation\n",
      "Japan\n"
     ]
    }
   ],
   "source": [
    "#Go to the data folder and use the **[countries_details_data.py]()** file.#\n",
    "\n",
    "# 1. What are the total number of languages in the data\n",
    "languages = set()\n",
    "for country in countries_data:\n",
    "  for language in country['languages']:\n",
    "    languages.add(language)\n",
    "print(len(languages))\n",
    "\n",
    "\n",
    "# 2. Find the ten most spoken languages from the data \\\\ English , French , Arabic\n",
    "language_count = {}\n",
    "for country in countries_data:\n",
    "  for language in country['languages']:\n",
    "    if language in language_count:\n",
    "      language_count[language] += 1\n",
    "    else:\n",
    "      language_count[language] = 1\n",
    "# print(language_count)\n",
    "sorted_languages = sorted(language_count.items(), key=lambda x: x[1], reverse=True) #دالة جاهزة لتسهيل الوصول للعناصر مرتبة)\n",
    "# print(sorted_languages[:10])\n",
    "print(\"The ten most spoken languages are:\")\n",
    "for i in range(10):\n",
    "  print(sorted_languages[i][0])\n",
    "\n",
    "\n",
    "#3. Find the 10 most populated countries in the world \\\\ China, India, US\n",
    "population = {}\n",
    "for country in countries_data:\n",
    "  population[country['name']] = country['population']\n",
    "sorted_population = sorted(population.items(), key=lambda x: x[1], reverse=True)\n",
    "# print(sorted_population[:-9])\n",
    "print(\"The 10 most populated countries in the world are:\")\n",
    "for i in range(10):\n",
    "  print(sorted_population[i][0])"
   ]
  },
  {
   "cell_type": "code",
   "execution_count": 41,
   "id": "99db21a8",
   "metadata": {},
   "outputs": [
    {
     "name": "stdout",
     "output_type": "stream",
     "text": [
      "0 x 0 = 0\n",
      "1 x 1 = 1\n",
      "2 x 2 = 4\n",
      "3 x 3 = 9\n",
      "4 x 4 = 16\n",
      "5 x 5 = 25\n",
      "6 x 6 = 36\n",
      "7 x 7 = 49\n",
      "8 x 8 = 64\n",
      "9 x 9 = 81\n",
      "10 x 10 = 100\n"
     ]
    }
   ],
   "source": [
    "# Print the following pattern using loops (bones)\n",
    "# 0 x 0 = 0\n",
    "# 1 x 1 = 1\n",
    "# 2 x 2 = 4\n",
    "# 3 x 3 = 9\n",
    "# 4 x 4 = 16\n",
    "# 5 x 5 = 25\n",
    "# 6 x 6 = 36\n",
    "# 7 x 7 = 49\n",
    "# 8 x 8 = 64\n",
    "# 9 x 9 = 81\n",
    "# 10 x 10 = 100\n",
    "for i in range(11):\n",
    "  print(f\"{i} x {i} = {i*i}\")"
   ]
  }
 ],
 "metadata": {
  "colab": {
   "provenance": []
  },
  "kernelspec": {
   "display_name": "Python 3",
   "language": "python",
   "name": "python3"
  },
  "language_info": {
   "codemirror_mode": {
    "name": "ipython",
    "version": 3
   },
   "file_extension": ".py",
   "mimetype": "text/x-python",
   "name": "python",
   "nbconvert_exporter": "python",
   "pygments_lexer": "ipython3",
   "version": "3.13.3"
  }
 },
 "nbformat": 4,
 "nbformat_minor": 5
}
