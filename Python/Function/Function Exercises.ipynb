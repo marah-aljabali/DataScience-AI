{
 "cells": [
  {
   "cell_type": "markdown",
   "id": "29ecfe5b",
   "metadata": {},
   "source": [
    "1. Declare a function named **`capitalize_list_items`**. It takes a list as a parameter and it returns a capitalized list of items"
   ]
  },
  {
   "cell_type": "code",
   "execution_count": null,
   "id": "5efc086f",
   "metadata": {},
   "outputs": [],
   "source": [
    "def capitalize_list_items(items):\n",
    "  capitalized_items = []\n",
    "  for item in items:\n",
    "    capitalized_items.append(item.capitalize())\n",
    "  return capitalized_items"
   ]
  },
  {
   "cell_type": "markdown",
   "id": "bc44df67",
   "metadata": {},
   "source": [
    "2. Declare a function named **`add_item`**. It takes a list and an item parameters. It returns a list with the item added at the end."
   ]
  },
  {
   "cell_type": "code",
   "execution_count": null,
   "id": "85fd3c5e",
   "metadata": {},
   "outputs": [],
   "source": [
    "def add_item(lst, item):\n",
    "  lst.append(item)\n",
    "  return lst"
   ]
  },
  {
   "cell_type": "markdown",
   "id": "8e4f0265",
   "metadata": {},
   "source": [
    "3. Declare a function named **`reverse_list`**. It takes an array as a parameter and it returns the reverse of the array (use loops).\n",
    "\n",
    "```py\n",
    "print(reverse_list([1, 2, 3, 4, 5]))\n",
    "#[5, 4, 3, 2, 1]\n",
    "print(reverse_list1([\"A\", \"B\", \"C\"]))\n",
    "#[\"C\", \"B\", \"A\"]\n",
    "```"
   ]
  },
  {
   "cell_type": "code",
   "execution_count": 4,
   "id": "742c352f",
   "metadata": {},
   "outputs": [],
   "source": [
    "def reverse_list(arr):\n",
    "  reversed_arr = []\n",
    "  for i in range(len(arr)-1, -1, -1):\n",
    "    reversed_arr.append(arr[i])\n",
    "  return reversed_arr\n",
    "\n"
   ]
  },
  {
   "cell_type": "markdown",
   "id": "5526f20b",
   "metadata": {},
   "source": [
    "4.  Declare a function named **`evens_and_odds`**. It takes a positive integer as parameter and it counts number of evens and odds in the number.\n",
    "\n",
    "```py\n",
    "print(evens_and_odds(100))\n",
    "#The number of odds are 50.\n",
    "#The number of evens are 51."
   ]
  },
  {
   "cell_type": "code",
   "execution_count": null,
   "id": "555340c0",
   "metadata": {},
   "outputs": [],
   "source": [
    "def evens_and_odds(num):\n",
    "  evens = 0\n",
    "  odds = 0\n",
    "  for i in range(num + 1):\n",
    "    if i % 2 == 0:\n",
    "      evens += 1\n",
    "    else:\n",
    "      odds += 1\n",
    "  return evens, odds"
   ]
  },
  {
   "cell_type": "markdown",
   "id": "de43ecd1",
   "metadata": {},
   "source": [
    "5. Write different functions which take lists. They should **`calculate_mean`**, **`calculate_median`**, **`calculate_mode`**"
   ]
  },
  {
   "cell_type": "code",
   "execution_count": null,
   "id": "7e012ae3",
   "metadata": {},
   "outputs": [],
   "source": [
    "def calculate_mean(numbers):\n",
    "  return sum(numbers) / len(numbers)\n",
    "\n",
    "def calculate_median(numbers):\n",
    "  numbers.sort()\n",
    "  if len(numbers) % 2 == 1:\n",
    "    return numbers[len(numbers) // 2]\n",
    "  else:\n",
    "    return (numbers[len(numbers) // 2 - 1] + numbers[len(numbers) // 2]) / 2\n",
    "\n",
    "def calculate_mode(numbers):\n",
    "  frequency = {}\n",
    "  for num in numbers:\n",
    "    frequency[num] = frequency.get(num, 0) + 1\n",
    "  max_count = max(frequency.values())\n",
    "  modes = [k for k, v in frequency.items() if v == max_count]\n",
    "  return modes[0] if len(modes) == 1 else modes\n"
   ]
  },
  {
   "cell_type": "markdown",
   "id": "ad12a0af",
   "metadata": {},
   "source": [
    "6. Declare a function named **`print_list`**. It takes a list as a parameter and it prints out each element of the list."
   ]
  },
  {
   "cell_type": "code",
   "execution_count": null,
   "id": "7408303f",
   "metadata": {},
   "outputs": [],
   "source": [
    "def print_list(arr):\n",
    "  for item in arr:\n",
    "    print(item)"
   ]
  }
 ],
 "metadata": {
  "kernelspec": {
   "display_name": "Python 3",
   "language": "python",
   "name": "python3"
  },
  "language_info": {
   "codemirror_mode": {
    "name": "ipython",
    "version": 3
   },
   "file_extension": ".py",
   "mimetype": "text/x-python",
   "name": "python",
   "nbconvert_exporter": "python",
   "pygments_lexer": "ipython3",
   "version": "3.13.3"
  }
 },
 "nbformat": 4,
 "nbformat_minor": 5
}
